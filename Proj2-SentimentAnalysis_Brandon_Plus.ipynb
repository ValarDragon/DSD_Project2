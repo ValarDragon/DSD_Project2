{
 "cells": [
  {
   "cell_type": "code",
   "execution_count": 1,
   "metadata": {
    "collapsed": true
   },
   "outputs": [],
   "source": [
    "import numpy as np\n",
    "import pandas as pd\n",
    "import os\n",
    "import sklearn\n",
    "from sklearn.model_selection import train_test_split, GridSearchCV\n",
    "from sklearn.tree import DecisionTreeClassifier\n",
    "from sklearn.ensemble import RandomForestClassifier\n",
    "from matplotlib import pyplot as plt\n",
    "import matplotlib"
   ]
  },
  {
   "cell_type": "markdown",
   "metadata": {},
   "source": [
    "# Reading Data"
   ]
  },
  {
   "cell_type": "code",
   "execution_count": 102,
   "metadata": {
    "collapsed": true
   },
   "outputs": [],
   "source": [
    "remove_chars = [chr(x) for x in range(31)]\n",
    "add_spaces = [\"[\", \"]\", \"(\", \")\", \"`\", \":\", \".\", \";\", \"{\", \"}\"]\n",
    "def segmentWords(s): \n",
    "    # Remove non-printable characters, change remove ending apostrophe or apostrophe s, as those\n",
    "    # make the dataset more sparse, and dont provide additional value regarding sentiment in the bag of words model.\n",
    "    # (Most of the time its just making an extra word for a proper noun)\n",
    "    for char in remove_chars:\n",
    "        s = s.replace(char,\"\")\n",
    "    for char in add_spaces:\n",
    "        s = s.replace(char,char + \" \")\n",
    "    words = [word if not word.endswith(\"'s\") else word[:-2] for word in s.split()]\n",
    "    return [word if not word.endswith(\"'\") else word[:-1] for word in words]\n",
    "\n",
    "    \n",
    "\n",
    "def readFile(fileName):\n",
    "    # Function for reading file\n",
    "    # input: filename as string\n",
    "    # output: contents of file as list containing single words\n",
    "    contents = []\n",
    "    f = open(fileName)\n",
    "    for line in f:\n",
    "        contents.append(line)\n",
    "    f.close()\n",
    "    result = segmentWords('\\n'.join(contents))\n",
    "    return result"
   ]
  },
  {
   "cell_type": "markdown",
   "metadata": {},
   "source": [
    "#### Create a Dataframe containing the counts of each word in a file"
   ]
  },
  {
   "cell_type": "code",
   "execution_count": 103,
   "metadata": {
    "collapsed": true
   },
   "outputs": [],
   "source": [
    "d = []\n",
    "document_frequency_for_words = {}\n",
    "\n",
    "for c in os.listdir(\"data_training\"):\n",
    "    directory = \"data_training/\" + c\n",
    "    for file in os.listdir(directory):\n",
    "        words = readFile(directory + \"/\" + file)\n",
    "        e = {x:words.count(x) for x in words}\n",
    "        for word in set(words):\n",
    "            if word not in document_frequency_for_words:\n",
    "                document_frequency_for_words[word] = 0\n",
    "            document_frequency_for_words[word] += 1\n",
    "        e['__FileID__'] = file\n",
    "        e['is_positive'] = 1 if c == 'pos' else 0\n",
    "        e['num_words'] = sum([1 for x in words if len(x) > 1]) #Exclude punctuation and empty strings\n",
    "        d.append(e)"
   ]
  },
  {
   "cell_type": "markdown",
   "metadata": {},
   "source": [
    "Create a dataframe from d - make sure to fill all the nan values with zeros.\n",
    "\n",
    "References:\n",
    "\n",
    "https://pandas.pydata.org/pandas-docs/stable/generated/pandas.DataFrame.html\n",
    "https://pandas.pydata.org/pandas-docs/stable/generated/pandas.DataFrame.fillna.html\n"
   ]
  },
  {
   "cell_type": "code",
   "execution_count": 105,
   "metadata": {},
   "outputs": [],
   "source": [
    "df = pd.DataFrame(data=d,index=None)\n",
    "if '' in df.columns:\n",
    "    df.drop('', inplace=True, axis=1)\n",
    "df.fillna(value=0,axis=0,inplace=True)\n",
    "df = df.astype(np.int32, errors='ignore') # Become slightly more memory efficient, because my computer is a potato.\n",
    "del d"
   ]
  },
  {
   "cell_type": "code",
   "execution_count": 106,
   "metadata": {},
   "outputs": [
    {
     "name": "stdout",
     "output_type": "stream",
     "text": [
      "Removing 30750 cols\n"
     ]
    }
   ],
   "source": [
    "min_document_frequency = 5\n",
    "bad_cols = []\n",
    "for word in document_frequency_for_words.keys():\n",
    "    if document_frequency_for_words[word] < min_document_frequency:\n",
    "        bad_cols += [word]\n",
    "print(\"Removing %s cols\" % len(bad_cols))\n",
    "df.drop(bad_cols, axis=1, inplace=True)"
   ]
  },
  {
   "cell_type": "code",
   "execution_count": 107,
   "metadata": {
    "collapsed": true,
    "scrolled": false
   },
   "outputs": [],
   "source": [
    "word_count = dict(((word,df[word].sum()) for word in  list(df.columns)))"
   ]
  },
  {
   "cell_type": "markdown",
   "metadata": {},
   "source": [
    "#### Split data into training and validation set "
   ]
  },
  {
   "cell_type": "markdown",
   "metadata": {
    "collapsed": true
   },
   "source": [
    "* Sample 80% of your dataframe to be the training data\n",
    "\n",
    "* Let the remaining 20% be the validation data (you can filter out the indicies of the original dataframe that weren't selected for the training data)\n",
    "\n",
    "References:\n",
    "\n",
    "https://pandas.pydata.org/pandas-docs/stable/generated/pandas.DataFrame.sample.html\n",
    "https://pandas.pydata.org/pandas-docs/stable/generated/pandas.DataFrame.drop.html"
   ]
  },
  {
   "cell_type": "code",
   "execution_count": 108,
   "metadata": {
    "collapsed": true
   },
   "outputs": [],
   "source": [
    "traindf, validatedf = train_test_split(df, test_size=0.2)"
   ]
  },
  {
   "cell_type": "markdown",
   "metadata": {},
   "source": [
    "* Split the dataframe for both training and validation data into x and y dataframes - where y contains the labels and x contains the words\n",
    "\n",
    "References:\n",
    "\n",
    "https://pandas.pydata.org/pandas-docs/stable/generated/pandas.DataFrame.drop.html"
   ]
  },
  {
   "cell_type": "code",
   "execution_count": 109,
   "metadata": {
    "collapsed": true
   },
   "outputs": [],
   "source": [
    "traindf_x = traindf.drop('is_positive', axis=1)\n",
    "traindf_x.drop('__FileID__', inplace=True, axis=1)\n",
    "traindf_y = pd.DataFrame(traindf['is_positive'])\n",
    "\n",
    "validatedf_x = validatedf.drop('is_positive', axis=1)\n",
    "validatedf_x.drop('__FileID__', inplace=True, axis=1)\n",
    "validatedf_y = pd.DataFrame(validatedf['is_positive'])"
   ]
  },
  {
   "cell_type": "markdown",
   "metadata": {},
   "source": [
    "# Logistic Regression"
   ]
  },
  {
   "cell_type": "markdown",
   "metadata": {},
   "source": [
    "#### Basic Logistic Regression\n",
    "* Use sklearn's linear_model.LogisticRegression() to create your model.\n",
    "* Fit the data and labels with your model.\n",
    "* Score your model with the same data and labels.\n",
    "\n",
    "References:\n",
    "\n",
    "http://scikit-learn.org/stable/modules/generated/sklearn.linear_model.LogisticRegression.html"
   ]
  },
  {
   "cell_type": "code",
   "execution_count": 110,
   "metadata": {
    "collapsed": true
   },
   "outputs": [],
   "source": [
    "from sklearn.linear_model import LogisticRegression\n",
    "estimator = LogisticRegression()\n",
    "trained_model = estimator.fit(traindf_x,traindf_y.values.ravel())"
   ]
  },
  {
   "cell_type": "code",
   "execution_count": 111,
   "metadata": {
    "scrolled": true
   },
   "outputs": [
    {
     "name": "stdout",
     "output_type": "stream",
     "text": [
      "Accuracy from basic model:  0.859375\n"
     ]
    }
   ],
   "source": [
    "# make predictions\n",
    "# summarize the fit of the model\n",
    "accuracy_LR =  trained_model.score(validatedf_x, validatedf_y.values.ravel())\n",
    "print(\"Accuracy from basic model: \" ,accuracy_LR)"
   ]
  },
  {
   "cell_type": "markdown",
   "metadata": {},
   "source": [
    "Without any tuning of the hyper parameters and very little feature extraction/selection, the accuracy of the logistic regression model on the validation data is 85.3%."
   ]
  },
  {
   "cell_type": "markdown",
   "metadata": {},
   "source": [
    "#### Changing Parameters"
   ]
  },
  {
   "cell_type": "code",
   "execution_count": 112,
   "metadata": {
    "collapsed": true
   },
   "outputs": [],
   "source": [
    "#print(\"Tuned Logistic Regression Parameters: {}\".format(trained_models.best_params_)) \n",
    "#print(\"Best score is {}\".format(trained_models.best_score_ ))\n",
    "#logReg_estimator = LogisticRegression(C = trained_models.best_params_['C'])\n",
    "logReg_estimator = LogisticRegression(C = 1)"
   ]
  },
  {
   "cell_type": "code",
   "execution_count": 113,
   "metadata": {
    "collapsed": true
   },
   "outputs": [],
   "source": [
    "logReg_C =  logReg_estimator.fit(traindf_x,traindf_y.values.ravel())\n",
    "accuracy_LR_C = logReg_C.score(validatedf_x, validatedf_y.values.ravel())"
   ]
  },
  {
   "cell_type": "code",
   "execution_count": 114,
   "metadata": {},
   "outputs": [
    {
     "name": "stdout",
     "output_type": "stream",
     "text": [
      "Accuracy from tuned C parameter, model:  0.859375\n"
     ]
    }
   ],
   "source": [
    "print(\"Accuracy from tuned C parameter, model: \" , accuracy_LR_C)"
   ]
  },
  {
   "cell_type": "markdown",
   "metadata": {},
   "source": [
    "#### Feature Selection\n",
    "* In the backward stepsize selection method, you can remove coefficients and the corresponding x columns, where the coefficient is more than a particular amount away from the mean - you can choose how far from the mean is reasonable.\n",
    "\n",
    "References:\n",
    "\n",
    "https://pandas.pydata.org/pandas-docs/stable/generated/pandas.DataFrame.html#\n",
    "https://pandas.pydata.org/pandas-docs/stable/generated/pandas.DataFrame.sample.html\n",
    "https://pandas.pydata.org/pandas-docs/stable/generated/pandas.DataFrame.drop.html\n",
    "http://scikit-learn.org/stable/modules/generated/sklearn.linear_model.LogisticRegression.html\n",
    "https://docs.scipy.org/doc/numpy-1.13.0/reference/generated/numpy.where.html\n",
    "https://docs.scipy.org/doc/numpy-1.13.0/reference/generated/numpy.std.html\n",
    "https://docs.scipy.org/doc/numpy-1.13.0/reference/generated/numpy.mean.html"
   ]
  },
  {
   "cell_type": "code",
   "execution_count": 115,
   "metadata": {
    "collapsed": true
   },
   "outputs": [],
   "source": [
    "from sklearn import preprocessing \n",
    "traindf_xNorm = preprocessing.normalize(traindf_x, norm=\"l2\", axis=1, copy=True, return_norm=False)\n",
    "normalizd_weights = preprocessing.normalize(logReg_C.coef_, norm =\"l2\", axis = 1, copy=True, return_norm=False)\n",
    "normalizd_weights.mean()\n",
    "keep_indices = []\n",
    "\n",
    "epsilon = 1500\n",
    "weights_mean = abs(normalizd_weights.mean())\n",
    "for i in range(len(normalizd_weights[0])):\n",
    "    if ((abs(abs(normalizd_weights[0][i] - weights_mean) / weights_mean)) < epsilon):\n",
    "        keep_indices.append(i)\n",
    "        \n",
    "traindf_xDropped = np.take(traindf_x,keep_indices, axis = 1)\n",
    "trained_logReg = logReg_estimator.fit(traindf_xDropped, traindf_y.values.ravel())\n",
    "validatedf_xDropped = np.take(validatedf_x, keep_indices, axis = 1)\n",
    "validatedf_xKept = preprocessing.normalize(validatedf_xDropped, norm=\"l2\", axis=1, copy=True, return_norm=False)\n",
    "trained_logReg.score(validatedf_xDropped,validatedf_y)"
   ]
  },
  {
   "cell_type": "markdown",
   "metadata": {},
   "source": [
    "##Parameter Adjustment"
   ]
  },
  {
   "cell_type": "code",
   "execution_count": 122,
   "metadata": {},
   "outputs": [
    {
     "name": "stdout",
     "output_type": "stream",
     "text": [
      "Fitting estimator with 11797 features.\n",
      "Fitting estimator with 11772 features.\n",
      "Fitting estimator with 11747 features.\n",
      "Fitting estimator with 11722 features.\n",
      "Fitting estimator with 11697 features.\n",
      "Fitting estimator with 11672 features.\n",
      "Fitting estimator with 11647 features.\n",
      "Fitting estimator with 11622 features.\n",
      "Fitting estimator with 11597 features.\n",
      "Fitting estimator with 11572 features.\n",
      "Fitting estimator with 11547 features.\n",
      "Fitting estimator with 11522 features.\n",
      "Fitting estimator with 11497 features.\n",
      "Fitting estimator with 11472 features.\n",
      "Fitting estimator with 11447 features.\n",
      "Fitting estimator with 11422 features.\n",
      "Fitting estimator with 11397 features.\n",
      "Fitting estimator with 11372 features.\n",
      "Fitting estimator with 11347 features.\n",
      "Fitting estimator with 11322 features.\n",
      "Fitting estimator with 11297 features.\n",
      "Fitting estimator with 11272 features.\n",
      "Fitting estimator with 11247 features.\n",
      "Fitting estimator with 11222 features.\n",
      "Fitting estimator with 11197 features.\n",
      "Fitting estimator with 11172 features.\n",
      "Fitting estimator with 11147 features.\n",
      "Fitting estimator with 11122 features.\n",
      "Fitting estimator with 11097 features.\n",
      "Fitting estimator with 11072 features.\n",
      "Fitting estimator with 11047 features.\n",
      "Fitting estimator with 11022 features.\n",
      "Fitting estimator with 10997 features.\n",
      "Fitting estimator with 10972 features.\n",
      "Fitting estimator with 10947 features.\n",
      "Fitting estimator with 10922 features.\n",
      "Fitting estimator with 10897 features.\n",
      "Fitting estimator with 10872 features.\n",
      "Fitting estimator with 10847 features.\n",
      "Fitting estimator with 10822 features.\n",
      "Fitting estimator with 10797 features.\n",
      "Fitting estimator with 10772 features.\n",
      "Fitting estimator with 10747 features.\n",
      "Fitting estimator with 10722 features.\n",
      "Fitting estimator with 10697 features.\n",
      "Fitting estimator with 10672 features.\n",
      "Fitting estimator with 10647 features.\n",
      "Fitting estimator with 10622 features.\n",
      "Fitting estimator with 10597 features.\n",
      "Fitting estimator with 10572 features.\n",
      "Fitting estimator with 10547 features.\n",
      "Fitting estimator with 10522 features.\n",
      "Fitting estimator with 10497 features.\n",
      "Fitting estimator with 10472 features.\n",
      "Fitting estimator with 10447 features.\n",
      "Fitting estimator with 10422 features.\n",
      "Fitting estimator with 10397 features.\n",
      "Fitting estimator with 10372 features.\n",
      "Fitting estimator with 10347 features.\n",
      "Fitting estimator with 10322 features.\n",
      "Fitting estimator with 10297 features.\n",
      "Fitting estimator with 10272 features.\n",
      "Fitting estimator with 10247 features.\n",
      "Fitting estimator with 10222 features.\n",
      "Fitting estimator with 10197 features.\n",
      "Fitting estimator with 10172 features.\n",
      "Fitting estimator with 10147 features.\n",
      "Fitting estimator with 10122 features.\n",
      "Fitting estimator with 10097 features.\n",
      "Fitting estimator with 10072 features.\n",
      "Fitting estimator with 10047 features.\n",
      "Fitting estimator with 10022 features.\n",
      "Fitting estimator with 9997 features.\n",
      "Fitting estimator with 9972 features.\n",
      "Fitting estimator with 9947 features.\n",
      "Fitting estimator with 9922 features.\n",
      "Fitting estimator with 9897 features.\n",
      "Fitting estimator with 9872 features.\n",
      "Fitting estimator with 9847 features.\n",
      "Fitting estimator with 9822 features.\n",
      "Fitting estimator with 9797 features.\n",
      "Fitting estimator with 9772 features.\n",
      "Fitting estimator with 9747 features.\n",
      "Fitting estimator with 9722 features.\n",
      "Fitting estimator with 9697 features.\n",
      "Fitting estimator with 9672 features.\n",
      "Fitting estimator with 9647 features.\n",
      "Fitting estimator with 9622 features.\n",
      "Fitting estimator with 9597 features.\n",
      "Fitting estimator with 9572 features.\n",
      "Fitting estimator with 9547 features.\n",
      "Fitting estimator with 9522 features.\n",
      "Fitting estimator with 9497 features.\n",
      "Fitting estimator with 9472 features.\n",
      "Fitting estimator with 9447 features.\n"
     ]
    }
   ],
   "source": [
    "from sklearn.feature_selection import RFE\n",
    "logReg_model = LogisticRegression()\n",
    "rfe = RFE(logReg_model, step = 25, n_features_to_select = int(.8*traindf_x.shape[1] // 1), verbose = 1)\n",
    "trained = rfe.fit(traindf_x, traindf_y.values.ravel())"
   ]
  },
  {
   "cell_type": "code",
   "execution_count": 124,
   "metadata": {},
   "outputs": [
    {
     "data": {
      "text/plain": [
       "0.859375"
      ]
     },
     "execution_count": 124,
     "metadata": {},
     "output_type": "execute_result"
    }
   ],
   "source": [
    "validatedf_x.shape\n",
    "trained.score(validatedf_x, validatedf_y)"
   ]
  },
  {
   "cell_type": "code",
   "execution_count": null,
   "metadata": {
    "collapsed": true
   },
   "outputs": [],
   "source": [
    "c_space = np.logspace(start = -2, stop = 3, base = 2, num =3)\n",
    "iter_space = np.logspace(start = 2, stop = 4, base = 10, num = 3)\n",
    "penalty_space = [\"l2\", \"l1\"]\n",
    "tol_space = np.logspace(start = -6, stop= -3, base = 10, num = 3)\n",
    "intercept_space = [True, False]\n",
    "\n",
    "param_grid = {'C': c_space, 'tol' : tol_space, 'fit_intercept' : intercept_space, 'max_iter' : iter_space, 'penalty' : penalty_space}\n",
    "\n",
    "logReg_model = LogisticRegression()\n",
    "\n",
    "logReg_CV = GridSearchCV(estimator = logReg_model, param_grid = param_grid, cv = 3, n_jobs = -1, verbose = 3)\n",
    "trained_models = logReg_CV.fit(traindf_x, traindf_y.values.ravel())"
   ]
  },
  {
   "cell_type": "markdown",
   "metadata": {},
   "source": [
    "How did you select which features to remove? Why did that reduce overfitting?"
   ]
  },
  {
   "cell_type": "markdown",
   "metadata": {},
   "source": [
    "# Single Decision Tree"
   ]
  },
  {
   "cell_type": "markdown",
   "metadata": {},
   "source": [
    "#### Basic Decision Tree\n",
    "\n",
    "* Initialize your model as a decision tree with sklearn.\n",
    "* Fit the data and labels to the model.\n",
    "\n",
    "References:\n",
    "\n",
    "http://scikit-learn.org/stable/modules/generated/sklearn.tree.DecisionTreeClassifier.html\n"
   ]
  },
  {
   "cell_type": "code",
   "execution_count": 13,
   "metadata": {},
   "outputs": [
    {
     "name": "stdout",
     "output_type": "stream",
     "text": [
      "Decision tree score:  0.678125\n"
     ]
    }
   ],
   "source": [
    "def most_important_features(dtc):\n",
    "    lst = []\n",
    "    for i in range(len(dtc.feature_importances_)):\n",
    "        if dtc.feature_importances_[i] > 0:\n",
    "            lst.append([dtc.feature_importances_[i], df.columns[i]])\n",
    "    lst.sort(key=lambda x: x[0], reverse=True)\n",
    "    return lst\n",
    "dt_clf = DecisionTreeClassifier(criterion='entropy', max_depth=9)\n",
    "dt_clf.fit(traindf_x, traindf_y)\n",
    "print(\"Decision tree score: \", dt_clf.score(validatedf_x, validatedf_y))"
   ]
  },
  {
   "cell_type": "markdown",
   "metadata": {},
   "source": [
    "#### Changing Parameters\n",
    "* To test out which value is optimal for a particular parameter, you can either loop through various values or look into sklearn.model_selection.GridSearchCV\n",
    "\n",
    "References:\n",
    "\n",
    "\n",
    "http://scikit-learn.org/stable/modules/generated/sklearn.model_selection.GridSearchCV.html\n",
    "http://scikit-learn.org/stable/modules/generated/sklearn.tree.DecisionTreeClassifier.html"
   ]
  },
  {
   "cell_type": "code",
   "execution_count": 34,
   "metadata": {},
   "outputs": [
    {
     "name": "stdout",
     "output_type": "stream",
     "text": [
      "Highest validation score is: 0.668125\n"
     ]
    }
   ],
   "source": [
    "train_scores = []\n",
    "valid_scores = []\n",
    "x = [x for x in range(1, 100,5)]\n",
    "num_trials = 5\n",
    "for depth in x:\n",
    "    training_score = 0\n",
    "    validation_score = 0\n",
    "    for i in range(num_trials):\n",
    "        clf = DecisionTreeClassifier(criterion='entropy', max_depth=depth)\n",
    "        clf.fit(traindf_x, traindf_y)\n",
    "        training_score += clf.score(traindf_x, traindf_y)\n",
    "        validation_score += clf.score(validatedf_x, validatedf_y)\n",
    "    train_scores += [training_score / num_trials]\n",
    "    valid_scores += [validation_score / num_trials]\n",
    "print(\"Highest validation score is: \" + str(max(valid_scores)))"
   ]
  },
  {
   "cell_type": "code",
   "execution_count": 35,
   "metadata": {},
   "outputs": [
    {
     "data": {
      "image/png": "[encoded data removed]",
      "text/plain": [
       "<matplotlib.figure.Figure at 0x7f2de937acc0>"
      ]
     },
     "metadata": {},
     "output_type": "display_data"
    }
   ],
   "source": [
    "plt.plot(x, train_scores, color='b', label=\"Avg. Training Score\")\n",
    "plt.plot(x, valid_scores, color='r', label=\"Avg. Validation Scores\")\n",
    "plt.legend()\n",
    "plt.show()"
   ]
  },
  {
   "cell_type": "markdown",
   "metadata": {},
   "source": [
    "How did you choose which parameters to change and what value to give to them? Feel free to show a plot."
   ]
  },
  {
   "cell_type": "markdown",
   "metadata": {},
   "source": [
    "I chose to change the maximum depth parameter. I chose to vary this parameter, as lowering the maximum depth helps prevent the decision tree from overfitting. Thus it seemed sensible to try to find the optimal max depth to increase the validation scores. I have determined the value to give it from the above plot. The plot I made is a graph of the average decision tree accuracy on the training data and test data, with 5 samples per depth. The above plot indicates that the maximum validation score occurs at a maximum depth of 9. (*Please note that the exact peak changes depending on the test data / validation data split. On average 9 appears to be the peak of the validation series on the plot I made, however this can change between run-throughs. Other common peaks (that are typically shorter than the peaks at 9) occur at 5 and 16*"
   ]
  },
  {
   "cell_type": "markdown",
   "metadata": {},
   "source": [
    "Why is a single decision tree so prone to overfitting?"
   ]
  },
  {
   "cell_type": "markdown",
   "metadata": {},
   "source": [
    "A single decision tree can train to fit the training data exactly, and thus accounts for details present within the training data that aren't representative of the true underlying relationships."
   ]
  },
  {
   "cell_type": "markdown",
   "metadata": {},
   "source": [
    "As an interesting sidenote, lets see which words are the most indicative of the data being positive / negative. "
   ]
  },
  {
   "cell_type": "code",
   "execution_count": 16,
   "metadata": {},
   "outputs": [
    {
     "name": "stdout",
     "output_type": "stream",
     "text": [
      "[[0.12354839186131988, 'bacteria'], [0.1005960852127845, 'ancy'], [0.039550223190104483, 'hirt'], [0.037641220924938074, 'worshippers'], [0.028163497132233858, 'allowing'], [0.025108318435031883, 'ridiculing'], [0.02281490948516933, 'nothiiiiiinggggggggggg'], [0.020946552654621722, 'shaping'], [0.019923462945768803, '?'], [0.019611698506784458, 'placards']]\n"
     ]
    }
   ],
   "source": [
    "print(most_important_features(dt_clf)[:10])\n",
    "del dt_clf"
   ]
  },
  {
   "cell_type": "markdown",
   "metadata": {},
   "source": [
    "These words really don't look they should be indicative of movie reviews in general. I wouldn't expect bacteria, or ancy to appear in the vast majority of reviews. This explains why the score on the validation data is so low (~70%). I suspect that there is some bias in the amount of reviews in the training set where it makes sense to have the words bacteria, and ancy. When you do multiple run-throughs with different validation / training splits, bacteria and ancy are consistenly in the top 10, indicating that there may indeed be some inherent bias in the given data. This could likely be fixed by getting more movie reviews."
   ]
  },
  {
   "cell_type": "markdown",
   "metadata": {},
   "source": [
    "# Random Forest Classifier"
   ]
  },
  {
   "cell_type": "markdown",
   "metadata": {},
   "source": [
    "#### Basic Random Forest\n",
    "\n",
    "* Use sklearn's ensemble.RandomForestClassifier() to create your model.\n",
    "* Fit the data and labels with your model.\n",
    "* Score your model with the same data and labels.\n",
    "\n",
    "References:\n",
    "\n",
    "http://scikit-learn.org/stable/modules/generated/sklearn.ensemble.RandomForestClassifier.html\n"
   ]
  },
  {
   "cell_type": "code",
   "execution_count": 43,
   "metadata": {},
   "outputs": [
    {
     "name": "stdout",
     "output_type": "stream",
     "text": [
      "Random forest score:  0.76875\n"
     ]
    }
   ],
   "source": [
    "rf_clf = RandomForestClassifier(n_estimators=50, max_depth=30, criterion='entropy')\n",
    "rf_clf.fit(traindf_x, traindf['is_positive'])\n",
    "print(\"Random forest score: \", rf_clf.score(validatedf_x, validatedf_y))\n",
    "del rf_clf"
   ]
  },
  {
   "cell_type": "markdown",
   "metadata": {},
   "source": [
    "#### Changing Parameters"
   ]
  },
  {
   "cell_type": "code",
   "execution_count": null,
   "metadata": {
    "collapsed": true
   },
   "outputs": [],
   "source": [
    "parameters = {'criterion':['entropy'], 'n_estimators':[40, 45, 50, 55, 60, 100], 'max_depth':[25,30,35,40]}\n",
    "rf_clf = RandomForestClassifier()\n",
    "grd_src = GridSearchCV(rf_clf, parameters)\n",
    "grd_src.fit(traindf_x, traindf['is_positive'])\n",
    "print(grd_src.best_params_)\n",
    "print(grd_src.score(validatedf_x, validatedf_y))"
   ]
  },
  {
   "cell_type": "markdown",
   "metadata": {},
   "source": [
    "What parameters did you choose to change and why?"
   ]
  },
  {
   "cell_type": "raw",
   "metadata": {
    "collapsed": true
   },
   "source": [
    "We chose to change the number of estimators and the maximum depth. The number of estimators is the number of trees in the forest, so it seemed like that would be a good thing to fi"
   ]
  },
  {
   "cell_type": "markdown",
   "metadata": {},
   "source": [
    "How does a random forest classifier prevent overfitting better than a single decision tree?"
   ]
  },
  {
   "cell_type": "code",
   "execution_count": null,
   "metadata": {
    "collapsed": true
   },
   "outputs": [],
   "source": []
  },
  {
   "cell_type": "code",
   "execution_count": null,
   "metadata": {
    "collapsed": true
   },
   "outputs": [],
   "source": []
  },
  {
   "cell_type": "code",
   "execution_count": null,
   "metadata": {
    "collapsed": true
   },
   "outputs": [],
   "source": []
  }
 ],
 "metadata": {
  "kernelspec": {
   "display_name": "Python 3",
   "language": "python",
   "name": "python3"
  },
  "language_info": {
   "codemirror_mode": {
    "name": "ipython",
    "version": 3
   },
   "file_extension": ".py",
   "mimetype": "text/x-python",
   "name": "python",
   "nbconvert_exporter": "python",
   "pygments_lexer": "ipython3",
   "version": "3.6.1"
  }
 },
 "nbformat": 4,
 "nbformat_minor": 1
}
