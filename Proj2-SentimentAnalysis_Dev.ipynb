{
 "cells": [
  {
   "cell_type": "code",
   "execution_count": 1,
   "metadata": {
    "collapsed": true
   },
   "outputs": [],
   "source": [
    "import numpy as np\n",
    "import pandas as pd\n",
    "import os\n",
    "import sklearn\n",
    "from sklearn.model_selection import train_test_split, GridSearchCV\n",
    "from sklearn.tree import DecisionTreeClassifier\n",
    "from sklearn.ensemble import RandomForestClassifier\n",
    "from matplotlib import pyplot as plt\n",
    "import matplotlib"
   ]
  },
  {
   "cell_type": "markdown",
   "metadata": {},
   "source": [
    "# Reading Data"
   ]
  },
  {
   "cell_type": "code",
   "execution_count": 2,
   "metadata": {
    "collapsed": true
   },
   "outputs": [],
   "source": [
    "remove_chars = [chr(x) for x in range(31)]\n",
    "add_spaces = [\"[\", \"]\", \"(\", \")\", \"`\", \":\", \".\", \";\", \"{\", \"}\"]\n",
    "def segmentWords(s): \n",
    "    # Remove non-printable characters, change remove ending apostrophe or apostrophe s, as those\n",
    "    # make the dataset more sparse, and dont provide additional value regarding sentiment in the bag of words model.\n",
    "    # (Most of the time its just making an extra word for a proper noun)\n",
    "    for char in remove_chars:\n",
    "        s = s.replace(char,\"\")\n",
    "    for char in add_spaces:\n",
    "        s = s.replace(char,char + \" \")\n",
    "    words = [word if not word.endswith(\"'s\") else word[:-2] for word in s.split()]\n",
    "    return [word if not word.endswith(\"'\") else word[:-1] for word in words]\n",
    "\n",
    "    \n",
    "\n",
    "def readFile(fileName):\n",
    "    # Function for reading file\n",
    "    # input: filename as string\n",
    "    # output: contents of file as list containing single words\n",
    "    contents = []\n",
    "    f = open(fileName)\n",
    "    for line in f:\n",
    "        contents.append(line)\n",
    "    f.close()\n",
    "    result = segmentWords('\\n'.join(contents))\n",
    "    return result"
   ]
  },
  {
   "cell_type": "markdown",
   "metadata": {},
   "source": [
    "#### Create a Dataframe containing the counts of each word in a file"
   ]
  },
  {
   "cell_type": "code",
   "execution_count": 3,
   "metadata": {
    "collapsed": true
   },
   "outputs": [],
   "source": [
    "d = []\n",
    "\n",
    "for c in os.listdir(\"data_training\"):\n",
    "    directory = \"data_training/\" + c\n",
    "    for file in os.listdir(directory):\n",
    "        words = readFile(directory + \"/\" + file)\n",
    "        e = {x:words.count(x) for x in words}\n",
    "        e['__FileID__'] = file\n",
    "        e['is_positive'] = 1 if c == 'pos' else 0\n",
    "        e['num_words'] = sum([1 for x in words if len(x) > 1]) #Exclude punctuation and empty strings\n",
    "        d.append(e)"
   ]
  },
  {
   "cell_type": "markdown",
   "metadata": {},
   "source": [
    "Create a dataframe from d - make sure to fill all the nan values with zeros.\n",
    "\n",
    "References:\n",
    "\n",
    "https://pandas.pydata.org/pandas-docs/stable/generated/pandas.DataFrame.html\n",
    "https://pandas.pydata.org/pandas-docs/stable/generated/pandas.DataFrame.fillna.html\n"
   ]
  },
  {
   "cell_type": "code",
   "execution_count": 4,
   "metadata": {
    "collapsed": true
   },
   "outputs": [],
   "source": [
    "df = pd.DataFrame(data=d,index=None)\n",
    "if '' in df.columns:\n",
    "    df.drop('', inplace=True, axis=1)\n",
    "df.fillna(value=0,axis=0,inplace=True)\n",
    "df = df.astype(np.int32, errors='ignore') # Become slightly more memory efficient, because my computer is a potato.\n",
    "del d"
   ]
  },
  {
   "cell_type": "code",
   "execution_count": null,
   "metadata": {
    "collapsed": true
   },
   "outputs": [],
   "source": []
  },
  {
   "cell_type": "markdown",
   "metadata": {},
   "source": [
    "#### Split data into training and validation set "
   ]
  },
  {
   "cell_type": "markdown",
   "metadata": {
    "collapsed": true
   },
   "source": [
    "* Sample 80% of your dataframe to be the training data\n",
    "\n",
    "* Let the remaining 20% be the validation data (you can filter out the indicies of the original dataframe that weren't selected for the training data)\n",
    "\n",
    "References:\n",
    "\n",
    "https://pandas.pydata.org/pandas-docs/stable/generated/pandas.DataFrame.sample.html\n",
    "https://pandas.pydata.org/pandas-docs/stable/generated/pandas.DataFrame.drop.html"
   ]
  },
  {
   "cell_type": "code",
   "execution_count": 38,
   "metadata": {
    "collapsed": true
   },
   "outputs": [],
   "source": [
    "traindf, validatedf = train_test_split(df, test_size=0.2)"
   ]
  },
  {
   "cell_type": "markdown",
   "metadata": {},
   "source": [
    "* Split the dataframe for both training and validation data into x and y dataframes - where y contains the labels and x contains the words\n",
    "\n",
    "References:\n",
    "\n",
    "https://pandas.pydata.org/pandas-docs/stable/generated/pandas.DataFrame.drop.html"
   ]
  },
  {
   "cell_type": "code",
   "execution_count": 39,
   "metadata": {
    "collapsed": true
   },
   "outputs": [],
   "source": [
    "traindf_x = traindf.drop('is_positive', axis=1)\n",
    "traindf_x.drop('__FileID__', inplace=True, axis=1)\n",
    "traindf_y = pd.DataFrame(traindf['is_positive'])\n",
    "\n",
    "validatedf_x = validatedf.drop('is_positive', axis=1)\n",
    "validatedf_x.drop('__FileID__', inplace=True, axis=1)\n",
    "validatedf_y = pd.DataFrame(validatedf['is_positive'])"
   ]
  },
  {
   "cell_type": "code",
   "execution_count": null,
   "metadata": {
    "collapsed": true
   },
   "outputs": [],
   "source": []
  },
  {
   "cell_type": "markdown",
   "metadata": {},
   "source": [
    "# Logistic Regression"
   ]
  },
  {
   "cell_type": "markdown",
   "metadata": {},
   "source": [
    "#### Basic Logistic Regression\n",
    "* Use sklearn's linear_model.LogisticRegression() to create your model.\n",
    "* Fit the data and labels with your model.\n",
    "* Score your model with the same data and labels.\n",
    "\n",
    "References:\n",
    "\n",
    "http://scikit-learn.org/stable/modules/generated/sklearn.linear_model.LogisticRegression.html"
   ]
  },
  {
   "cell_type": "code",
   "execution_count": null,
   "metadata": {
    "collapsed": true
   },
   "outputs": [],
   "source": []
  },
  {
   "cell_type": "markdown",
   "metadata": {},
   "source": [
    "#### Changing Parameters"
   ]
  },
  {
   "cell_type": "code",
   "execution_count": null,
   "metadata": {
    "collapsed": true
   },
   "outputs": [],
   "source": []
  },
  {
   "cell_type": "markdown",
   "metadata": {},
   "source": [
    "#### Feature Selection\n",
    "* In the backward stepsize selection method, you can remove coefficients and the corresponding x columns, where the coefficient is more than a particular amount away from the mean - you can choose how far from the mean is reasonable.\n",
    "\n",
    "References:\n",
    "\n",
    "https://pandas.pydata.org/pandas-docs/stable/generated/pandas.DataFrame.html#\n",
    "https://pandas.pydata.org/pandas-docs/stable/generated/pandas.DataFrame.sample.html\n",
    "https://pandas.pydata.org/pandas-docs/stable/generated/pandas.DataFrame.drop.html\n",
    "http://scikit-learn.org/stable/modules/generated/sklearn.linear_model.LogisticRegression.html\n",
    "https://docs.scipy.org/doc/numpy-1.13.0/reference/generated/numpy.where.html\n",
    "https://docs.scipy.org/doc/numpy-1.13.0/reference/generated/numpy.std.html\n",
    "https://docs.scipy.org/doc/numpy-1.13.0/reference/generated/numpy.mean.html"
   ]
  },
  {
   "cell_type": "code",
   "execution_count": null,
   "metadata": {
    "collapsed": true
   },
   "outputs": [],
   "source": []
  },
  {
   "cell_type": "markdown",
   "metadata": {},
   "source": [
    "How did you select which features to remove? Why did that reduce overfitting?"
   ]
  },
  {
   "cell_type": "code",
   "execution_count": null,
   "metadata": {
    "collapsed": true
   },
   "outputs": [],
   "source": []
  },
  {
   "cell_type": "markdown",
   "metadata": {},
   "source": [
    "# Single Decision Tree"
   ]
  },
  {
   "cell_type": "markdown",
   "metadata": {},
   "source": [
    "#### Basic Decision Tree\n",
    "\n",
    "* Initialize your model as a decision tree with sklearn.\n",
    "* Fit the data and labels to the model.\n",
    "\n",
    "References:\n",
    "\n",
    "http://scikit-learn.org/stable/modules/generated/sklearn.tree.DecisionTreeClassifier.html\n"
   ]
  },
  {
   "cell_type": "code",
   "execution_count": 51,
   "metadata": {},
   "outputs": [
    {
     "name": "stdout",
     "output_type": "stream",
     "text": [
      "Decision tree score:  0.684375\n"
     ]
    }
   ],
   "source": [
    "def most_important_features(dtc):\n",
    "    lst = []\n",
    "    for i in range(len(dtc.feature_importances_)):\n",
    "        if dtc.feature_importances_[i] > 0:\n",
    "            lst.append([dtc.feature_importances_[i], traindf_x.columns[i]])\n",
    "    lst.sort(key=lambda x: x[0], reverse=True)\n",
    "    return lst\n",
    "dt_clf = DecisionTreeClassifier(criterion='entropy', max_depth=6)\n",
    "dt_clf.fit(traindf_x, traindf_y)\n",
    "print(\"Decision tree score: \", dt_clf.score(validatedf_x, validatedf_y))"
   ]
  },
  {
   "cell_type": "markdown",
   "metadata": {},
   "source": [
    "#### Changing Parameters\n",
    "* To test out which value is optimal for a particular parameter, you can either loop through various values or look into sklearn.model_selection.GridSearchCV\n",
    "\n",
    "References:\n",
    "\n",
    "\n",
    "http://scikit-learn.org/stable/modules/generated/sklearn.model_selection.GridSearchCV.html\n",
    "http://scikit-learn.org/stable/modules/generated/sklearn.tree.DecisionTreeClassifier.html"
   ]
  },
  {
   "cell_type": "code",
   "execution_count": 26,
   "metadata": {},
   "outputs": [
    {
     "name": "stdout",
     "output_type": "stream",
     "text": [
      "Highest validation score is: 0.666875\n"
     ]
    }
   ],
   "source": [
    "train_scores = []\n",
    "valid_scores = []\n",
    "x = [x for x in range(20, 200,20)]\n",
    "num_trials = 5\n",
    "for depth in x:\n",
    "    training_score = 0\n",
    "    validation_score = 0\n",
    "    for i in range(num_trials):\n",
    "        clf = DecisionTreeClassifier(criterion='entropy', max_depth=depth)\n",
    "        clf.fit(traindf_x, traindf_y)\n",
    "        training_score += clf.score(traindf_x, traindf_y)\n",
    "        validation_score += clf.score(validatedf_x, validatedf_y)\n",
    "    train_scores += [training_score / num_trials]\n",
    "    valid_scores += [validation_score / num_trials]\n",
    "print(\"Highest validation score is: \" + str(max(valid_scores)))"
   ]
  },
  {
   "cell_type": "code",
   "execution_count": 24,
   "metadata": {},
   "outputs": [
    {
     "data": {
      "image/png": "[encoded data removed]",
      "text/plain": [
       "<matplotlib.figure.Figure at 0x7fe4b6ba92e8>"
      ]
     },
     "metadata": {},
     "output_type": "display_data"
    }
   ],
   "source": [
    "plt.plot(x, train_scores, color='b', label=\"Avg. Training Score\")\n",
    "plt.plot(x, valid_scores, color='r', label=\"Avg. Validation Scores\")\n",
    "plt.legend()\n",
    "plt.show()"
   ]
  },
  {
   "cell_type": "markdown",
   "metadata": {},
   "source": [
    "How did you choose which parameters to change and what value to give to them? Feel free to show a plot."
   ]
  },
  {
   "cell_type": "markdown",
   "metadata": {},
   "source": [
    "I chose to change the maximum depth parameter. I chose to vary this parameter, as lowering the maximum depth helps prevent the decision tree from overfitting. Thus it seemed sensible to try to find the optimal max depth to increase the validation scores. I have determined the value to give it from the above plot. The plot I made is a graph of the average decision tree accuracy on the training data and test data, with 5 samples per depth. The above plot indicates that the maximum validation score occurs at a maximum depth of 9. (*Please note that the exact peak changes depending on the test data / validation data split. On average 9 appears to be the peak of the validation series on the plot I made, however this can change between run-throughs. Other common peaks (that are typically shorter than the peaks at 9) occur at 5 and 16*"
   ]
  },
  {
   "cell_type": "markdown",
   "metadata": {},
   "source": [
    "Why is a single decision tree so prone to overfitting?"
   ]
  },
  {
   "cell_type": "markdown",
   "metadata": {},
   "source": [
    "A single decision tree can train to fit the training data exactly, and thus accounts for details present within the training data that aren't representative of the true underlying relationships."
   ]
  },
  {
   "cell_type": "markdown",
   "metadata": {},
   "source": [
    "As an interesting sidenote, lets see which words are the most indicative of the data being positive / negative. "
   ]
  },
  {
   "cell_type": "code",
   "execution_count": 49,
   "metadata": {},
   "outputs": [
    {
     "name": "stdout",
     "output_type": "stream",
     "text": [
      "[[0.13490888622185412, 'and'], [0.12084357408551347, 'bad'], [0.11464148280345936, 'worst'], [0.058739060116795472, 'most'], [0.04357157779876096, 'ridiculous'], [0.038268786157075851, 'minutes'], [0.037588684904068283, 'exciting'], [0.03508853471674258, 'allows'], [0.033062852550971349, 'memorable'], [0.032756372890076504, 'have']]\n"
     ]
    }
   ],
   "source": [
    "print(most_important_features(dt_clf)[:10])"
   ]
  },
  {
   "cell_type": "markdown",
   "metadata": {},
   "source": [
    "_I MADE AN ERROR EARLIER, THIS TEXT SECTION NEEDS TO BE REVISED_\n",
    "These words really don't look they should be indicative of movie reviews in general. I wouldn't expect bacteria, or ancy to appear in the vast majority of reviews. This explains why the score on the validation data is so low (~70%). I suspect that there is some bias in the amount of reviews in the training set where it makes sense to have the words bacteria, and ancy. When you do multiple run-throughs with different validation / training splits, bacteria and ancy are consistenly in the top 10, indicating that there may indeed be some inherent bias in the given data. This could likely be fixed by getting more movie reviews, or using a model different than the bag of words model."
   ]
  },
  {
   "cell_type": "code",
   "execution_count": 63,
   "metadata": {},
   "outputs": [],
   "source": [
    "try: #Visualize our tree, if graphviz is on sys\n",
    "    from sklearn.tree import export_graphviz\n",
    "    def visualize_tree(tree, feature_names):\n",
    "        import subprocess\n",
    "        \"\"\"Create tree png using graphviz.\n",
    "\n",
    "        Args\n",
    "        ----\n",
    "        tree -- scikit-learn DecsisionTree.\n",
    "        feature_names -- list of feature names.\n",
    "        \"\"\"\n",
    "        with open(\"dt.dot\", 'w') as f:\n",
    "            export_graphviz(tree, out_file=f,\n",
    "                            feature_names=feature_names)\n",
    "        command = [\"dot\", \"-Tpng\", \"dt.dot\", \"-o\", \"dt.png\"]\n",
    "        try:\n",
    "            subprocess.check_call(command)\n",
    "        except:\n",
    "            exit(\"Could not run dot, ie graphviz, to \"\n",
    "                 \"produce visualization\")\n",
    "    visualize_tree(dt_clf, traindf_x.columns)\n",
    "    del dt_clf\n",
    "except:\n",
    "    print(\"You probably need to install graphviz on your system if you want a visualization of the decision tree.\")"
   ]
  },
  {
   "cell_type": "markdown",
   "metadata": {},
   "source": [
    "# Random Forest Classifier"
   ]
  },
  {
   "cell_type": "markdown",
   "metadata": {},
   "source": [
    "#### Basic Random Forest\n",
    "\n",
    "* Use sklearn's ensemble.RandomForestClassifier() to create your model.\n",
    "* Fit the data and labels with your model.\n",
    "* Score your model with the same data and labels.\n",
    "\n",
    "References:\n",
    "\n",
    "http://scikit-learn.org/stable/modules/generated/sklearn.ensemble.RandomForestClassifier.html\n"
   ]
  },
  {
   "cell_type": "code",
   "execution_count": 43,
   "metadata": {},
   "outputs": [
    {
     "name": "stdout",
     "output_type": "stream",
     "text": [
      "Random forest score:  0.81875\n"
     ]
    }
   ],
   "source": [
    "rf_clf = RandomForestClassifier(n_estimators=100, max_depth=32, criterion='entropy')\n",
    "rf_clf.fit(traindf_x, traindf['is_positive'])\n",
    "print(\"Random forest score: \", rf_clf.score(validatedf_x, validatedf_y))\n",
    "del rf_clf"
   ]
  },
  {
   "cell_type": "markdown",
   "metadata": {},
   "source": [
    "#### Changing Parameters"
   ]
  },
  {
   "cell_type": "code",
   "execution_count": 47,
   "metadata": {},
   "outputs": [
    {
     "name": "stdout",
     "output_type": "stream",
     "text": [
      "{'n_estimators': 60, 'max_depth': 31, 'criterion': 'entropy'}\n",
      "0.784375\n"
     ]
    }
   ],
   "source": [
    "parameters = {'criterion':['entropy'], 'n_estimators':[60], 'max_depth':[x for x in range(31,40)]}\n",
    "rf_clf = RandomForestClassifier()\n",
    "grd_src = GridSearchCV(rf_clf, parameters)\n",
    "grd_src.fit(traindf_x, traindf['is_positive'])\n",
    "print(grd_src.best_params_)\n",
    "print(grd_src.score(validatedf_x, validatedf_y))"
   ]
  },
  {
   "cell_type": "markdown",
   "metadata": {},
   "source": [
    "What parameters did you choose to change and why?"
   ]
  },
  {
   "cell_type": "markdown",
   "metadata": {
    "collapsed": true
   },
   "source": [
    "We chose to change the number of estimators and the maximum depth. The number of estimators is the number of trees in the forest, so it seemed like that would be a good thing to find the optimal value for. The conclusion reached was the more estimators the better, however we are bounded by computational resources. We chose to vary the max depth because that would have a large impact on the accuracy of the model. (Maximum depth directly controls how much the model is overfitting / underfitting)"
   ]
  },
  {
   "cell_type": "markdown",
   "metadata": {},
   "source": [
    "How does a random forest classifier prevent overfitting better than a single decision tree?"
   ]
  },
  {
   "cell_type": "markdown",
   "metadata": {},
   "source": [
    "The features used in each decision tree are randomized, so "
   ]
  },
  {
   "cell_type": "code",
   "execution_count": null,
   "metadata": {
    "collapsed": true
   },
   "outputs": [],
   "source": []
  },
  {
   "cell_type": "code",
   "execution_count": null,
   "metadata": {
    "collapsed": true
   },
   "outputs": [],
   "source": []
  }
 ],
 "metadata": {
  "kernelspec": {
   "display_name": "Python 3",
   "language": "python",
   "name": "python3"
  },
  "language_info": {
   "codemirror_mode": {
    "name": "ipython",
    "version": 3
   },
   "file_extension": ".py",
   "mimetype": "text/x-python",
   "name": "python",
   "nbconvert_exporter": "python",
   "pygments_lexer": "ipython3",
   "version": "3.4.3"
  }
 },
 "nbformat": 4,
 "nbformat_minor": 1
}
